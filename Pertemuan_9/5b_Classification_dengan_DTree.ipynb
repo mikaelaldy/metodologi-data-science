{
  "cells": [
    {
      "cell_type": "markdown",
      "metadata": {
        "id": "GmmOZkthY3VE"
      },
      "source": [
        "<img src = \"https://evangsmailoa.files.wordpress.com/2019/09/ml.png\"  align = \"center\">"
      ]
    },
    {
      "cell_type": "markdown",
      "metadata": {
        "id": "bIHWpwuxTMk0"
      },
      "source": [
        "#<center>Decision Trees</center>\n",
        "Kali ini kita akan lakukan klasifikasi dengan menggunakan algoritma DTree. Kita akan buat model dari data historis pasien. \n",
        "<p>Seperti biasa, kita <b>import library</b> terlebih dahulu:"
      ]
    },
    {
      "cell_type": "code",
      "execution_count": 2,
      "metadata": {
        "id": "ItwI79MPTM3O"
      },
      "outputs": [],
      "source": [
        "import numpy as np \n",
        "import pandas as pd\n",
        "from sklearn.tree import DecisionTreeClassifier\n"
      ]
    },
    {
      "cell_type": "markdown",
      "metadata": {
        "id": "i5JDKZcITXUA"
      },
      "source": [
        "Bayangkan kalau kita adalah peneliti dibidang medis (bayangkan saja, jangan sampai beneran, bahaya!). Kita punya data dari semua pasien yang punya penyakit yang sama namun mereka di treatmen dengan obat yang berbeda-beda. Ada yang cocok obat A, ada yang cocok obat B, obat C, dst. Tugas kita adalah buat model yang tepat supaya digunakan untuk prediksi pasien-pasien di masa depan dengan penyakit yang sama. Data2 pasien berisi umur (Age), jenis kelamin (Sex), tekanan darah (Blood Pressure), dan kolesterol (Cholesterol).\n",
        "<p>Kalo data sampelnya dalam bentuk klasifikasi biner maka kita dapat dengan mudah menggunakan algoritma <b>DT3 (decision tree)</b> untuk prediksi kelas dari pasien di masa mendatang.\n",
        "<p>Nah untuk kasus ini, kita butuh untuk download contoh dataset. Datasetnya kita ambil dari IBM Object Storage."
      ]
    },
    {
      "cell_type": "code",
      "execution_count": 3,
      "metadata": {
        "colab": {
          "base_uri": "https://localhost:8080/"
        },
        "id": "kNR9GMexTQ0x",
        "outputId": "90ceb441-619b-46da-da16-0b4ade559ac5"
      },
      "outputs": [],
      "source": [
        "#https://s3-api.us-geo.objectstorage.softlayer.net/cf-courses-data/CognitiveClass/ML0101ENv3/labs/drug200.csv"
      ]
    },
    {
      "cell_type": "markdown",
      "metadata": {
        "id": "dlQ8oSAfUCXN"
      },
      "source": [
        "Nah sekarang kita baca data **drug200.csv** dengan dataframe pandas: "
      ]
    },
    {
      "cell_type": "code",
      "execution_count": 4,
      "metadata": {
        "colab": {
          "base_uri": "https://localhost:8080/",
          "height": 206
        },
        "id": "vo0Z01DvUCjn",
        "outputId": "5a3724d2-66b6-4c63-a992-a8e6de0b58da"
      },
      "outputs": [
        {
          "data": {
            "text/html": [
              "<div>\n",
              "<style scoped>\n",
              "    .dataframe tbody tr th:only-of-type {\n",
              "        vertical-align: middle;\n",
              "    }\n",
              "\n",
              "    .dataframe tbody tr th {\n",
              "        vertical-align: top;\n",
              "    }\n",
              "\n",
              "    .dataframe thead th {\n",
              "        text-align: right;\n",
              "    }\n",
              "</style>\n",
              "<table border=\"1\" class=\"dataframe\">\n",
              "  <thead>\n",
              "    <tr style=\"text-align: right;\">\n",
              "      <th></th>\n",
              "      <th>Age</th>\n",
              "      <th>Sex</th>\n",
              "      <th>BP</th>\n",
              "      <th>Cholesterol</th>\n",
              "      <th>Na_to_K</th>\n",
              "      <th>Drug</th>\n",
              "    </tr>\n",
              "  </thead>\n",
              "  <tbody>\n",
              "    <tr>\n",
              "      <th>0</th>\n",
              "      <td>23</td>\n",
              "      <td>F</td>\n",
              "      <td>HIGH</td>\n",
              "      <td>HIGH</td>\n",
              "      <td>25.355</td>\n",
              "      <td>drugY</td>\n",
              "    </tr>\n",
              "    <tr>\n",
              "      <th>1</th>\n",
              "      <td>47</td>\n",
              "      <td>M</td>\n",
              "      <td>LOW</td>\n",
              "      <td>HIGH</td>\n",
              "      <td>13.093</td>\n",
              "      <td>drugC</td>\n",
              "    </tr>\n",
              "    <tr>\n",
              "      <th>2</th>\n",
              "      <td>47</td>\n",
              "      <td>M</td>\n",
              "      <td>LOW</td>\n",
              "      <td>HIGH</td>\n",
              "      <td>10.114</td>\n",
              "      <td>drugC</td>\n",
              "    </tr>\n",
              "    <tr>\n",
              "      <th>3</th>\n",
              "      <td>28</td>\n",
              "      <td>F</td>\n",
              "      <td>NORMAL</td>\n",
              "      <td>HIGH</td>\n",
              "      <td>7.798</td>\n",
              "      <td>drugX</td>\n",
              "    </tr>\n",
              "    <tr>\n",
              "      <th>4</th>\n",
              "      <td>61</td>\n",
              "      <td>F</td>\n",
              "      <td>LOW</td>\n",
              "      <td>HIGH</td>\n",
              "      <td>18.043</td>\n",
              "      <td>drugY</td>\n",
              "    </tr>\n",
              "  </tbody>\n",
              "</table>\n",
              "</div>"
            ],
            "text/plain": [
              "   Age Sex      BP Cholesterol  Na_to_K   Drug\n",
              "0   23   F    HIGH        HIGH   25.355  drugY\n",
              "1   47   M     LOW        HIGH   13.093  drugC\n",
              "2   47   M     LOW        HIGH   10.114  drugC\n",
              "3   28   F  NORMAL        HIGH    7.798  drugX\n",
              "4   61   F     LOW        HIGH   18.043  drugY"
            ]
          },
          "execution_count": 4,
          "metadata": {},
          "output_type": "execute_result"
        }
      ],
      "source": [
        "my_data = pd.read_csv(\"drug200.csv\", delimiter=\",\")\n",
        "my_data[0:5]"
      ]
    },
    {
      "cell_type": "markdown",
      "metadata": {
        "id": "X3UN7L8hUPKa"
      },
      "source": [
        "## Pre-processing\n",
        "Kita beri nama <b>my_data</b> untuk nyalin data dari drug.csv dengan 2 variabel utama <b> X </b> sebagai <b> Feature Matrix </b> dan <b> y </b> sebagai <b> response vector (target) </b>. Nah berhubung kolom2 tidak semua berisi nilai numerik jadi kita harus ubah dulu ke nilai numerik, atau terpaksa kita drop/hapus."
      ]
    },
    {
      "cell_type": "code",
      "execution_count": 5,
      "metadata": {
        "colab": {
          "base_uri": "https://localhost:8080/"
        },
        "id": "ORpnYYLeUSC4",
        "outputId": "488bf9d8-46c5-45d1-8d78-972d7acc9fc1"
      },
      "outputs": [
        {
          "data": {
            "text/plain": [
              "array([[23, 'F', 'HIGH', 'HIGH', 25.355],\n",
              "       [47, 'M', 'LOW', 'HIGH', 13.093],\n",
              "       [47, 'M', 'LOW', 'HIGH', 10.114],\n",
              "       [28, 'F', 'NORMAL', 'HIGH', 7.798],\n",
              "       [61, 'F', 'LOW', 'HIGH', 18.043]], dtype=object)"
            ]
          },
          "execution_count": 5,
          "metadata": {},
          "output_type": "execute_result"
        }
      ],
      "source": [
        "X = my_data[['Age', 'Sex', 'BP', 'Cholesterol', 'Na_to_K']].values\n",
        "X[0:5]"
      ]
    },
    {
      "cell_type": "markdown",
      "metadata": {
        "id": "5lsYl7FsUZjX"
      },
      "source": [
        "Beberapa kolom dalam dataset berisi nilai kategorial, contoh: __Sex__ dan __BP__. Sayang sekali di **Sklearn Decision Trees** gak bisa tangani variabel yang kategorial, makanya kita harus konversi nilai2 kategorial dengan __pandas.get_dummies()__."
      ]
    },
    {
      "cell_type": "code",
      "execution_count": 6,
      "metadata": {
        "colab": {
          "base_uri": "https://localhost:8080/"
        },
        "id": "yhTdC1zrUZuy",
        "outputId": "32ea98c3-27f3-44eb-956c-2ba9e23cd344"
      },
      "outputs": [
        {
          "data": {
            "text/plain": [
              "array([[23, 0, 0, 0, 25.355],\n",
              "       [47, 1, 1, 0, 13.093],\n",
              "       [47, 1, 1, 0, 10.114],\n",
              "       [28, 0, 2, 0, 7.798],\n",
              "       [61, 0, 1, 0, 18.043]], dtype=object)"
            ]
          },
          "execution_count": 6,
          "metadata": {},
          "output_type": "execute_result"
        }
      ],
      "source": [
        "from sklearn import preprocessing\n",
        "le_sex = preprocessing.LabelEncoder()\n",
        "le_sex.fit(['F','M'])\n",
        "X[:,1] = le_sex.transform(X[:,1]) \n",
        "\n",
        "\n",
        "le_BP = preprocessing.LabelEncoder()\n",
        "le_BP.fit([ 'LOW', 'NORMAL', 'HIGH'])\n",
        "X[:,2] = le_BP.transform(X[:,2])\n",
        "\n",
        "\n",
        "le_Chol = preprocessing.LabelEncoder()\n",
        "le_Chol.fit([ 'NORMAL', 'HIGH'])\n",
        "X[:,3] = le_Chol.transform(X[:,3]) \n",
        "\n",
        "X[0:5]"
      ]
    },
    {
      "cell_type": "markdown",
      "metadata": {
        "id": "-0vGS0HmUlyT"
      },
      "source": [
        "Nah sekarang kita tambahkan satu kolom dengan nama **Drug**"
      ]
    },
    {
      "cell_type": "code",
      "execution_count": 7,
      "metadata": {
        "colab": {
          "base_uri": "https://localhost:8080/"
        },
        "id": "d8Xzx3x4Un0i",
        "outputId": "7baaf0c2-ff43-407b-c02f-006a47654c78"
      },
      "outputs": [
        {
          "data": {
            "text/plain": [
              "0    drugY\n",
              "1    drugC\n",
              "2    drugC\n",
              "3    drugX\n",
              "4    drugY\n",
              "Name: Drug, dtype: object"
            ]
          },
          "execution_count": 7,
          "metadata": {},
          "output_type": "execute_result"
        }
      ],
      "source": [
        "y = my_data[\"Drug\"]\n",
        "y[0:5]"
      ]
    },
    {
      "cell_type": "markdown",
      "metadata": {
        "id": "yj82tMITUuqH"
      },
      "source": [
        "---\n",
        "## Setting Decision Tree\n",
        "Seperti biasa kita mulai dengan **import**."
      ]
    },
    {
      "cell_type": "code",
      "execution_count": 8,
      "metadata": {
        "id": "jmy-zL3dUu5e"
      },
      "outputs": [],
      "source": [
        "from sklearn.model_selection import train_test_split"
      ]
    },
    {
      "cell_type": "markdown",
      "metadata": {
        "id": "BddOz5ncDqo9"
      },
      "source": [
        "Nah, <b> train_test_split </b> akan berisi 4 parameter. Kita beri nama:<br>\n",
        "X_trainset, X_testset, y_trainset, y_testset <br> <br>\n",
        "<b> Train_test_split </b> butuh nilai parameter: <br>\n",
        "X, y, test_size=0.3, and random_state=3. <br> <br>\n",
        "Nilai <b>X</b> dan <b>y</b> bentuknya array dan dibutuhkan sebelum di-**split**.<br><b>Test_size</b> adalah rasio dari dataset testing, dan <b>random_state</b> untuk memastikan apakah sudah dipisahkan (**split**) dengan sama."
      ]
    },
    {
      "cell_type": "code",
      "execution_count": 9,
      "metadata": {
        "id": "LavgZo2pVAJF"
      },
      "outputs": [],
      "source": [
        "X_trainset, X_testset, y_trainset, y_testset = train_test_split(X, y, test_size=0.3, random_state=3)"
      ]
    },
    {
      "cell_type": "markdown",
      "metadata": {
        "id": "bPEdhANSVNMc"
      },
      "source": [
        "## Modeling\n",
        "Pertama, kita buat *instance* dari <b>DecisionTreeClassifier</b> dan kita namakan <b>drugTree</b>.<br>"
      ]
    },
    {
      "cell_type": "code",
      "execution_count": 10,
      "metadata": {
        "colab": {
          "base_uri": "https://localhost:8080/"
        },
        "id": "urJQQxJoVQGb",
        "outputId": "3cd1a180-d51c-4fe0-d8c4-7c1b3f9f087b"
      },
      "outputs": [
        {
          "data": {
            "text/plain": [
              "DecisionTreeClassifier(max_depth=10)"
            ]
          },
          "execution_count": 10,
          "metadata": {},
          "output_type": "execute_result"
        }
      ],
      "source": [
        "drugTree = DecisionTreeClassifier(criterion=\"gini\", max_depth = 10)\n",
        "drugTree # it shows the default parameters"
      ]
    },
    {
      "cell_type": "markdown",
      "metadata": {
        "id": "jqw062qCVdAc"
      },
      "source": [
        "Selanjutnya, kita lakukan **fit data** dengan nilai training feature matrix <b> X_trainset </b> dan training response vector <b> y_trainset </b>"
      ]
    },
    {
      "cell_type": "code",
      "execution_count": 11,
      "metadata": {
        "colab": {
          "base_uri": "https://localhost:8080/"
        },
        "id": "PG6cmQcxVgXB",
        "outputId": "b8f5afe2-bb30-4172-d386-e0ea88c50e4a"
      },
      "outputs": [
        {
          "data": {
            "text/plain": [
              "DecisionTreeClassifier(max_depth=10)"
            ]
          },
          "execution_count": 11,
          "metadata": {},
          "output_type": "execute_result"
        }
      ],
      "source": [
        "drugTree.fit(X_trainset,y_trainset)"
      ]
    },
    {
      "cell_type": "markdown",
      "metadata": {
        "id": "6bz7x7yfVnpw"
      },
      "source": [
        "## Prediction\n",
        "Nah sekarang saatnya lakukan <b>prediction</b> berdasarkan testing dataset dan simpan ke <b>predTree</b>."
      ]
    },
    {
      "cell_type": "code",
      "execution_count": 12,
      "metadata": {
        "id": "kMTPO0OtVptW"
      },
      "outputs": [],
      "source": [
        "predTree = drugTree.predict(X_testset)"
      ]
    },
    {
      "cell_type": "markdown",
      "metadata": {
        "id": "dJS0vtjTVtGW"
      },
      "source": [
        "Kalau mau lihat hasil prediksi untuk dibandingkan dengan nilai asli, kita tinggal print saja <b>predTree</b> dan <b>y_testset</b>."
      ]
    },
    {
      "cell_type": "code",
      "execution_count": 13,
      "metadata": {
        "colab": {
          "base_uri": "https://localhost:8080/"
        },
        "id": "OPPPxxWLVv2e",
        "outputId": "03f966af-a407-4674-88dc-d2f7c7c46ba9"
      },
      "outputs": [
        {
          "name": "stdout",
          "output_type": "stream",
          "text": [
            "['drugY' 'drugX' 'drugX' 'drugX' 'drugX']\n",
            "40     drugY\n",
            "51     drugX\n",
            "139    drugX\n",
            "197    drugX\n",
            "170    drugX\n",
            "Name: Drug, dtype: object\n"
          ]
        }
      ],
      "source": [
        "print (predTree [0:5])\n",
        "print (y_testset [0:5])"
      ]
    },
    {
      "cell_type": "markdown",
      "metadata": {
        "id": "B3alM-GdP7Kr"
      },
      "source": [
        "## Evaluation\n",
        "Nah sekarang saatnya hitung akurasi dari model yang kita buat."
      ]
    },
    {
      "cell_type": "code",
      "execution_count": 14,
      "metadata": {
        "colab": {
          "base_uri": "https://localhost:8080/"
        },
        "id": "iRmqe4KbP_zc",
        "outputId": "4d2b815d-ac11-4bdf-954a-d938ebc30191"
      },
      "outputs": [
        {
          "name": "stdout",
          "output_type": "stream",
          "text": [
            "Akurasi dengan model DecisionTrees:  0.9833333333333333\n"
          ]
        }
      ],
      "source": [
        "from sklearn import metrics\n",
        "import matplotlib.pyplot as plt\n",
        "print(\"Akurasi dengan model DecisionTrees: \", metrics.accuracy_score(y_testset, predTree))"
      ]
    },
    {
      "cell_type": "markdown",
      "metadata": {
        "id": "7AhoQZLQQFQM"
      },
      "source": [
        "## Latihan \n",
        "Coba hitung akurasinya dengan **Jaccard Index**!"
      ]
    },
    {
      "cell_type": "code",
      "execution_count": 15,
      "metadata": {
        "colab": {
          "base_uri": "https://localhost:8080/"
        },
        "id": "_iZVjvjeQHVW",
        "outputId": "30d39abd-6841-40e9-b6c6-d6ff6abd9895"
      },
      "outputs": [
        {
          "data": {
            "text/plain": [
              "0.967391304347826"
            ]
          },
          "execution_count": 15,
          "metadata": {},
          "output_type": "execute_result"
        }
      ],
      "source": [
        "#Tulis kodingmu di sini....\n",
        "from sklearn.metrics import jaccard_score\n",
        "jaccard_score(y_testset, predTree, average='weighted')"
      ]
    },
    {
      "cell_type": "markdown",
      "metadata": {
        "id": "_skZxYc6QH_s"
      },
      "source": [
        "## Visualization\n",
        "Terakhir, tinggal buat visualisasi dari tree-nya"
      ]
    },
    {
      "cell_type": "code",
      "execution_count": 16,
      "metadata": {
        "id": "699vlQXcQKSy"
      },
      "outputs": [
        {
          "name": "stderr",
          "output_type": "stream",
          "text": [
            "'apt-get' is not recognized as an internal or external command,\n",
            "operable program or batch file.\n"
          ]
        },
        {
          "ename": "ModuleNotFoundError",
          "evalue": "No module named 'pydotplus'",
          "output_type": "error",
          "traceback": [
            "\u001b[1;31m---------------------------------------------------------------------------\u001b[0m",
            "\u001b[1;31mModuleNotFoundError\u001b[0m                       Traceback (most recent call last)",
            "\u001b[1;32mC:\\Users\\MIKAEL~1\\AppData\\Local\\Temp/ipykernel_6316/3588511561.py\u001b[0m in \u001b[0;36m<module>\u001b[1;34m\u001b[0m\n\u001b[0;32m      1\u001b[0m \u001b[0mget_ipython\u001b[0m\u001b[1;33m(\u001b[0m\u001b[1;33m)\u001b[0m\u001b[1;33m.\u001b[0m\u001b[0msystem\u001b[0m\u001b[1;33m(\u001b[0m\u001b[1;34m'apt-get -qq install -y graphviz && pip install -q pydotplus'\u001b[0m\u001b[1;33m)\u001b[0m\u001b[1;33m\u001b[0m\u001b[1;33m\u001b[0m\u001b[0m\n\u001b[0;32m      2\u001b[0m \u001b[1;32mfrom\u001b[0m \u001b[0msix\u001b[0m \u001b[1;32mimport\u001b[0m \u001b[0mStringIO\u001b[0m\u001b[1;33m\u001b[0m\u001b[1;33m\u001b[0m\u001b[0m\n\u001b[1;32m----> 3\u001b[1;33m \u001b[1;32mimport\u001b[0m \u001b[0mpydotplus\u001b[0m\u001b[1;33m\u001b[0m\u001b[1;33m\u001b[0m\u001b[0m\n\u001b[0m\u001b[0;32m      4\u001b[0m \u001b[1;32mimport\u001b[0m \u001b[0mmatplotlib\u001b[0m\u001b[1;33m.\u001b[0m\u001b[0mimage\u001b[0m \u001b[1;32mas\u001b[0m \u001b[0mmpimg\u001b[0m\u001b[1;33m\u001b[0m\u001b[1;33m\u001b[0m\u001b[0m\n\u001b[0;32m      5\u001b[0m \u001b[1;32mfrom\u001b[0m \u001b[0msklearn\u001b[0m \u001b[1;32mimport\u001b[0m \u001b[0mtree\u001b[0m\u001b[1;33m\u001b[0m\u001b[1;33m\u001b[0m\u001b[0m\n",
            "\u001b[1;31mModuleNotFoundError\u001b[0m: No module named 'pydotplus'"
          ]
        }
      ],
      "source": [
        "!apt-get -qq install -y graphviz && pip install -q pydotplus\n",
        "from six import StringIO\n",
        "import pydotplus\n",
        "import matplotlib.image as mpimg\n",
        "from sklearn import tree\n",
        "%matplotlib inline "
      ]
    },
    {
      "cell_type": "code",
      "execution_count": null,
      "metadata": {
        "colab": {
          "base_uri": "https://localhost:8080/",
          "height": 514
        },
        "id": "qAAj2mr8QOfj",
        "outputId": "f5869ddc-641c-4708-b9f9-434fd2b41c1f"
      },
      "outputs": [
        {
          "data": {
            "text/plain": [
              "<matplotlib.image.AxesImage at 0x7f5670a3b910>"
            ]
          },
          "execution_count": 18,
          "metadata": {},
          "output_type": "execute_result"
        },
        {
          "data": {
            "image/png": "[encoded data removed]",
            "text/plain": [
              "<Figure size 720x1440 with 1 Axes>"
            ]
          },
          "metadata": {
            "needs_background": "light"
          },
          "output_type": "display_data"
        }
      ],
      "source": [
        "dot_data = StringIO()\n",
        "filename = \"drugtree.png\"\n",
        "featureNames = my_data.columns[0:5]\n",
        "targetNames = my_data[\"Drug\"].unique().tolist()\n",
        "out=tree.export_graphviz(drugTree,feature_names=featureNames, out_file=dot_data, class_names= np.unique(y_trainset), filled=True,  special_characters=True,rotate=False)  \n",
        "graph = pydotplus.graph_from_dot_data(dot_data.getvalue())  \n",
        "graph.write_png(filename)\n",
        "img = mpimg.imread(filename)\n",
        "plt.figure(figsize=(10, 20))\n",
        "plt.imshow(img,interpolation='nearest')"
      ]
    },
    {
      "cell_type": "markdown",
      "metadata": {
        "id": "vWLJ2X_BQ2Ez"
      },
      "source": [
        "# <h2 id=\"(c)\">(c)</h2>\n",
        "<p>Copyright &copy; 2019 <b>Evangs Mailoa</b>.</p>\n",
        "\n",
        "---\n",
        "\n",
        "\n",
        "<p>Digunakan khusus untuk ngajar Machine Learning di Progdi Teknik Informatika - FTI UKSW</p>"
      ]
    }
  ],
  "metadata": {
    "colab": {
      "collapsed_sections": [
        "bIHWpwuxTMk0"
      ],
      "name": "5b. Classification dengan DTree.ipynb",
      "provenance": []
    },
    "kernelspec": {
      "display_name": "Python 3",
      "name": "python3"
    },
    "language_info": {
      "codemirror_mode": {
        "name": "ipython",
        "version": 3
      },
      "file_extension": ".py",
      "mimetype": "text/x-python",
      "name": "python",
      "nbconvert_exporter": "python",
      "pygments_lexer": "ipython3",
      "version": "3.9.7"
    }
  },
  "nbformat": 4,
  "nbformat_minor": 0
}
